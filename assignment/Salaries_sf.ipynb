{
 "cells": [
  {
   "cell_type": "code",
   "execution_count": null,
   "id": "69248a73",
   "metadata": {},
   "outputs": [],
   "source": [
    "# Find the average salaries of each job position(assuming salary is the total of all pays).\n",
    "# Which job title has the highest full time employees?\n",
    "# List the name of employees who work for the police department?\n",
    "# Find the job titles along with the employees name and ids.\n",
    "# Find the number of employees in each job title. \n",
    "# List out the names and positions of employees whose total pay is greater than 180000.\n",
    "# List the names and ids of employees who have never done overtime.\n",
    "\n"
   ]
  },
  {
   "cell_type": "code",
   "execution_count": 5,
   "id": "e6c2d465",
   "metadata": {},
   "outputs": [
    {
     "name": "stdout",
     "output_type": "stream",
     "text": [
      "22/10/21 11:49:35 WARN SparkSession: Using an existing Spark session; only runtime SQL configurations will take effect.\n"
     ]
    }
   ],
   "source": [
    "from pyspark.sql import SparkSession\n",
    "from pyspark.sql import functions as F\n",
    "from pyspark.sql.functions import udf,col,lit\n",
    "\n",
    "spark = SparkSession.builder.appName(\"Netflix_Title\").getOrCreate()\n"
   ]
  },
  {
   "cell_type": "code",
   "execution_count": 17,
   "id": "3e902c8c",
   "metadata": {},
   "outputs": [
    {
     "name": "stdout",
     "output_type": "stream",
     "text": [
      "root\n",
      " |-- Agency: string (nullable = true)\n",
      " |-- BasePay: string (nullable = true)\n",
      " |-- Benefits: string (nullable = true)\n",
      " |-- EmployeeName: string (nullable = true)\n",
      " |-- Id: string (nullable = true)\n",
      " |-- JobTitle: string (nullable = true)\n",
      " |-- Notes: string (nullable = true)\n",
      " |-- OtherPay: string (nullable = true)\n",
      " |-- OvertimePay: string (nullable = true)\n",
      " |-- Status: string (nullable = true)\n",
      " |-- TotalPay: string (nullable = true)\n",
      " |-- TotalPayBenefits: string (nullable = true)\n",
      " |-- Year: string (nullable = true)\n",
      " |-- _corrupt_record: string (nullable = true)\n",
      "\n"
     ]
    }
   ],
   "source": [
    "salarydf = spark.read.json('Salaries.json')\n",
    "salarydf.printSchema()"
   ]
  },
  {
   "cell_type": "code",
   "execution_count": 18,
   "id": "1107785a",
   "metadata": {},
   "outputs": [
    {
     "name": "stderr",
     "output_type": "stream",
     "text": [
      "\r",
      "[Stage 3:============================================>              (6 + 2) / 8]\r"
     ]
    },
    {
     "name": "stdout",
     "output_type": "stream",
     "text": [
      "+--------------------+------------------+\n",
      "|            JobTitle|     avg(TotalPay)|\n",
      "+--------------------+------------------+\n",
      "|MANAGER, UNIFIED ...|         124392.29|\n",
      "|COURT ALTERNATIVE...|        58886.5175|\n",
      "|       CITY ATTORNEY|         208243.12|\n",
      "|HEALTH PROGRAM CO...| 80969.15729166666|\n",
      "|PERFORMANCE ANALY...| 94262.28166666666|\n",
      "|HEAVY EQUIPMENT O...|           92872.0|\n",
      "|BATTALION CHIEF, ...| 216655.5368888889|\n",
      "|ASSOCIATE PERFORM...| 56206.88909090909|\n",
      "|SENIOR ESTATE INV...|          81456.45|\n",
      "|              ROOFER| 68091.44888888889|\n",
      "|AUTOMOTIVE MECHAN...|126170.64000000001|\n",
      "|MANAGER VII - MUN...|        150641.082|\n",
      "|STATION AGENT, MU...| 94206.51288461537|\n",
      "|CONFIDENTIAL SECR...|          78482.26|\n",
      "|CHILD SUPPORT OFF...|63523.614067796625|\n",
      "|SENIOR SWIMMING I...|65161.526249999995|\n",
      "| PROJECT MANAGER III|150305.20555555556|\n",
      "|OPERATING ROOM NURSE|         112489.44|\n",
      "|IS ENGINEER - ASS...| 91741.73000000001|\n",
      "|SENIOR REAL PROPE...|      79170.671875|\n",
      "+--------------------+------------------+\n",
      "only showing top 20 rows\n",
      "\n"
     ]
    },
    {
     "name": "stderr",
     "output_type": "stream",
     "text": [
      "\r",
      "                                                                                \r"
     ]
    }
   ],
   "source": [
    "# Find the average salaries of each job position(assuming salary is the total of all pays).\n",
    "salarydf.groupBy('JobTitle').agg({'TotalPay':'mean'}).show()"
   ]
  },
  {
   "cell_type": "code",
   "execution_count": 19,
   "id": "7551706b",
   "metadata": {},
   "outputs": [
    {
     "name": "stdout",
     "output_type": "stream",
     "text": [
      "+----------------+-----------------+\n",
      "|    EmployeeName|         JobTitle|\n",
      "+----------------+-----------------+\n",
      "|    GARY JIMENEZ|POLICE DEPARTMENT|\n",
      "|  ALBERT PARDINI|POLICE DEPARTMENT|\n",
      "|PATRICIA JACKSON|POLICE DEPARTMENT|\n",
      "| RICHARD CORRIEA|POLICE DEPARTMENT|\n",
      "|    GREGORY SUHR|POLICE DEPARTMENT|\n",
      "|  DENISE SCHMITT|POLICE DEPARTMENT|\n",
      "|     DAVID SHINN|POLICE DEPARTMENT|\n",
      "|      JOHN TURSI|POLICE DEPARTMENT|\n",
      "|     JAMES BOSCH|POLICE DEPARTMENT|\n",
      "|      JONES WONG|POLICE DEPARTMENT|\n",
      "|    JAMES DUDLEY|POLICE DEPARTMENT|\n",
      "|   KEVIN CASHMAN|POLICE DEPARTMENT|\n",
      "|      ANNA BROWN|POLICE DEPARTMENT|\n",
      "|     GREGORY MAR|POLICE DEPARTMENT|\n",
      "|   RICHARD PARRY|POLICE DEPARTMENT|\n",
      "|  THOMAS SHAWYER|POLICE DEPARTMENT|\n",
      "|  ANTONIO FLORES|POLICE DEPARTMENT|\n",
      "|     MARK GAMBLE|POLICE DEPARTMENT|\n",
      "|   DONNA MEIXNER|POLICE DEPARTMENT|\n",
      "|     JOHN MURPHY|POLICE DEPARTMENT|\n",
      "+----------------+-----------------+\n",
      "only showing top 20 rows\n",
      "\n"
     ]
    },
    {
     "name": "stderr",
     "output_type": "stream",
     "text": [
      "\r",
      "[Stage 6:>                                                          (0 + 1) / 1]\r",
      "\r",
      "                                                                                \r"
     ]
    }
   ],
   "source": [
    "# Which job title has the highest full time employees?\n",
    "def remove_front_char(jobtitle):\n",
    "    return jobtitle.replace('(','')\n",
    "\n",
    "remove_char_udf = udf(remove_front_char)  #defining udf for removing '('\n",
    "\n",
    "def remove_rear_char(jobtitle):\n",
    "    return jobtitle.replace(')','')\n",
    "\n",
    "remove_rear_udf= udf(remove_rear_char)    #defining udf for removing ')'\n",
    "\n",
    "filter1=salarydf.select(salarydf['EmployeeName'],remove_char_udf(salarydf['JobTitle'])).withColumnRenamed('remove_front_char(JobTitle)','JobTitle')\n",
    "filter2=filter1.select(filter1['EmployeeName'],remove_rear_udf(filter1['JobTitle'])).withColumnRenamed('remove_rear_char(JobTitle)','JobTitle')\n",
    "\n",
    "\n",
    "split_dept=filter2.select(filter2.EmployeeName,filter2.JobTitle).withColumn('JobTitle',F.explode(F.split('JobTitle',',')))    #splitting and exploding JobTitle having comma\n",
    "split_dept1=split_dept.select(split_dept.EmployeeName,split_dept.JobTitle).withColumn('JobTitle',F.explode(F.split(\"JobTitle\",\" \")))   #exploding and splitting JobTitle having whitespaces\n",
    "\n",
    "\n",
    "split_white_space = split_dept1.filter((split_dept1.JobTitle=='POLICE'))\n",
    "\n",
    "final_result = split_white_space.select(split_white_space.EmployeeName).withColumn(\"JobTitle\",lit(\"POLICE DEPARTMENT\")).show()"
   ]
  },
  {
   "cell_type": "code",
   "execution_count": 20,
   "id": "6ce3ba89",
   "metadata": {},
   "outputs": [
    {
     "name": "stdout",
     "output_type": "stream",
     "text": [
      "+--------------------+------------------+---+\n",
      "|            JobTitle|      EmployeeName| Id|\n",
      "+--------------------+------------------+---+\n",
      "|GENERAL MANAGER-M...|    NATHANIEL FORD|  1|\n",
      "|CAPTAIN III (POLI...|      GARY JIMENEZ|  2|\n",
      "|CAPTAIN III (POLI...|    ALBERT PARDINI|  3|\n",
      "|WIRE ROPE CABLE M...| CHRISTOPHER CHONG|  4|\n",
      "|DEPUTY CHIEF OF D...|   PATRICK GARDNER|  5|\n",
      "|ASSISTANT DEPUTY ...|    DAVID SULLIVAN|  6|\n",
      "|BATTALION CHIEF, ...|         ALSON LEE|  7|\n",
      "|DEPUTY DIRECTOR O...|     DAVID KUSHNER|  8|\n",
      "|BATTALION CHIEF, ...|    MICHAEL MORRIS|  9|\n",
      "|CHIEF OF DEPARTME...|JOANNE HAYES-WHITE| 10|\n",
      "|ASSISTANT CHIEF O...|     ARTHUR KENNEY| 11|\n",
      "|CAPTAIN III (POLI...|  PATRICIA JACKSON| 12|\n",
      "|EXECUTIVE CONTRAC...| EDWARD HARRINGTON| 13|\n",
      "|   DEPARTMENT HEAD V|       JOHN MARTIN| 14|\n",
      "|BATTALION CHIEF, ...|    DAVID FRANKLIN| 15|\n",
      "|COMMANDER III, (P...|   RICHARD CORRIEA| 16|\n",
      "|   DEPARTMENT HEAD V|          AMY HART| 17|\n",
      "|CAPTAIN, EMERGENC...|    SEBASTIAN WONG| 18|\n",
      "|BATTALION CHIEF, ...|        MARTY ROSS| 19|\n",
      "|ASSISTANT MEDICAL...|     ELLEN MOFFATT| 20|\n",
      "+--------------------+------------------+---+\n",
      "only showing top 20 rows\n",
      "\n"
     ]
    }
   ],
   "source": [
    "#Find the job titles along with the employees name and ids.\n",
    "salarydf.select(salarydf['JobTitle'],salarydf['EmployeeName'],salarydf['Id']).show()"
   ]
  },
  {
   "cell_type": "code",
   "execution_count": 21,
   "id": "e33b0c6e",
   "metadata": {},
   "outputs": [
    {
     "name": "stdout",
     "output_type": "stream",
     "text": [
      "+------------------+--------------------+---------+\n",
      "|      EmployeeName|            JobTitle| TotalPay|\n",
      "+------------------+--------------------+---------+\n",
      "|    NATHANIEL FORD|GENERAL MANAGER-M...|567595.43|\n",
      "|      GARY JIMENEZ|CAPTAIN III (POLI...|538909.28|\n",
      "|    ALBERT PARDINI|CAPTAIN III (POLI...|335279.91|\n",
      "| CHRISTOPHER CHONG|WIRE ROPE CABLE M...|332343.61|\n",
      "|   PATRICK GARDNER|DEPUTY CHIEF OF D...|326373.19|\n",
      "|    DAVID SULLIVAN|ASSISTANT DEPUTY ...|316285.74|\n",
      "|         ALSON LEE|BATTALION CHIEF, ...|315981.05|\n",
      "|     DAVID KUSHNER|DEPUTY DIRECTOR O...|307899.46|\n",
      "|    MICHAEL MORRIS|BATTALION CHIEF, ...|303427.55|\n",
      "|JOANNE HAYES-WHITE|CHIEF OF DEPARTME...|302377.73|\n",
      "|     ARTHUR KENNEY|ASSISTANT CHIEF O...|299494.17|\n",
      "|  PATRICIA JACKSON|CAPTAIN III (POLI...|297608.92|\n",
      "| EDWARD HARRINGTON|EXECUTIVE CONTRAC...|294580.02|\n",
      "|       JOHN MARTIN|   DEPARTMENT HEAD V|292671.62|\n",
      "|    DAVID FRANKLIN|BATTALION CHIEF, ...|286347.05|\n",
      "|   RICHARD CORRIEA|COMMANDER III, (P...|286213.86|\n",
      "|          AMY HART|   DEPARTMENT HEAD V|284720.43|\n",
      "|    SEBASTIAN WONG|CAPTAIN, EMERGENC...|278569.21|\n",
      "|        MARTY ROSS|BATTALION CHIEF, ...|276434.22|\n",
      "|     ELLEN MOFFATT|ASSISTANT MEDICAL...|274550.25|\n",
      "+------------------+--------------------+---------+\n",
      "only showing top 20 rows\n",
      "\n"
     ]
    }
   ],
   "source": [
    "#List out the names and positions of employees whose total pay is greater than 180000.\n",
    "\n",
    "\n",
    "salary_filter = salarydf.filter(salarydf['TotalPay']>180000)\n",
    "result = salary_filter.select(salary_filter['EmployeeName'],salary_filter['JobTitle'],salary_filter['TotalPay']).show()\n",
    "\n"
   ]
  },
  {
   "cell_type": "code",
   "execution_count": 22,
   "id": "e646468b",
   "metadata": {},
   "outputs": [
    {
     "name": "stdout",
     "output_type": "stream",
     "text": [
      "+--------------------+---+\n",
      "|        EmployeeName| Id|\n",
      "+--------------------+---+\n",
      "|      NATHANIEL FORD|  1|\n",
      "|       DAVID KUSHNER|  8|\n",
      "|  JOANNE HAYES-WHITE| 10|\n",
      "|   EDWARD HARRINGTON| 13|\n",
      "|         JOHN MARTIN| 14|\n",
      "|            AMY HART| 17|\n",
      "|          VENUS AZAR| 21|\n",
      "|        GREGORY SUHR| 26|\n",
      "|      DENISE SCHMITT| 29|\n",
      "|       MONICA FIELDS| 30|\n",
      "|     HARLAN KELLY-JR| 31|\n",
      "|         DAVID SHINN| 32|\n",
      "|         GARY AMELIO| 33|\n",
      "|        SUSAN CURRIN| 37|\n",
      "|SHARON MCCOLE WICHER| 45|\n",
      "|           EDWIN LEE| 46|\n",
      "|        TRENT RHORER| 48|\n",
      "|        JAMES DUDLEY| 49|\n",
      "|      BARBARA GARCIA| 52|\n",
      "|       KEVIN CASHMAN| 56|\n",
      "+--------------------+---+\n",
      "only showing top 20 rows\n",
      "\n"
     ]
    }
   ],
   "source": [
    "\n",
    "# Q7 List the names and ids of employees who have never done overtime.\n",
    "\n",
    "overtime_filter = salarydf.filter(salarydf['OvertimePay']==0)\n",
    "result = overtime_filter.select(overtime_filter['EmployeeName'],overtime_filter['Id']).show()"
   ]
  }
 ],
 "metadata": {
  "kernelspec": {
   "display_name": "Python 3 (ipykernel)",
   "language": "python",
   "name": "python3"
  },
  "language_info": {
   "codemirror_mode": {
    "name": "ipython",
    "version": 3
   },
   "file_extension": ".py",
   "mimetype": "text/x-python",
   "name": "python",
   "nbconvert_exporter": "python",
   "pygments_lexer": "ipython3",
   "version": "3.8.10"
  }
 },
 "nbformat": 4,
 "nbformat_minor": 5
}
